{
 "cells": [
  {
   "cell_type": "code",
   "execution_count": 1,
   "metadata": {},
   "outputs": [],
   "source": [
    "import pandas as pd\n",
    "import numpy as np\n",
    "import statsmodels.api as sm\n",
    "import statsmodels.formula.api as smf\n",
    "import seaborn as sns\n",
    "from statsmodels.iolib.summary2 import summary_col\n",
    "from linearmodels import PanelOLS"
   ]
  },
  {
   "cell_type": "code",
   "execution_count": 2,
   "metadata": {},
   "outputs": [],
   "source": [
    "n=2000\n",
    "df1=pd.DataFrame(index=range(n))\n",
    "df1['ability']=np.random.normal(100,15,n)\n",
    "df1['year']=1\n",
    "df1['persnr']=df1.index\n",
    "df1['training']=0\n",
    "## Now copy the DataFrame (i.e. generate observations for second year)\n",
    "df2=df1.copy()\n",
    "df2['year']=2\n",
    "## Training only in year 2:\n",
    "df2['training']=((df2['ability']+np.random.normal(0,10,n)>=100))\n",
    "## Generate DataFrame that spans both years by appending the two data frames\n",
    "df=pd.concat([df1,df2], sort=False)\n",
    "df['sales']= 10000+df.training*5000+df.ability*100+df.year*2000+ np.random.normal(0,4000,2*n)\n"
   ]
  },
  {
   "cell_type": "code",
   "execution_count": 5,
   "metadata": {},
   "outputs": [],
   "source": [
    "reg=smf.ols('sales ~  training + year', data=df).fit()"
   ]
  },
  {
   "cell_type": "code",
   "execution_count": 6,
   "metadata": {},
   "outputs": [
    {
     "name": "stdout",
     "output_type": "stream",
     "text": [
      "                            OLS Regression Results                            \n",
      "==============================================================================\n",
      "Dep. Variable:                  sales   R-squared:                       0.382\n",
      "Model:                            OLS   Adj. R-squared:                  0.382\n",
      "Method:                 Least Squares   F-statistic:                     1237.\n",
      "Date:                Mon, 25 Nov 2019   Prob (F-statistic):               0.00\n",
      "Time:                        13:20:17   Log-Likelihood:                -39028.\n",
      "No. Observations:                4000   AIC:                         7.806e+04\n",
      "Df Residuals:                    3997   BIC:                         7.808e+04\n",
      "Df Model:                           2                                         \n",
      "Covariance Type:            nonrobust                                         \n",
      "==============================================================================\n",
      "                 coef    std err          t      P>|t|      [0.025      0.975]\n",
      "------------------------------------------------------------------------------\n",
      "Intercept   2.089e+04    229.214     91.134      0.000    2.04e+04    2.13e+04\n",
      "training    6790.6529    187.029     36.308      0.000    6423.972    7157.334\n",
      "year        1086.1164    162.187      6.697      0.000     768.139    1404.094\n",
      "==============================================================================\n",
      "Omnibus:                        0.095   Durbin-Watson:                   1.986\n",
      "Prob(Omnibus):                  0.954   Jarque-Bera (JB):                0.127\n",
      "Skew:                          -0.005   Prob(JB):                        0.938\n",
      "Kurtosis:                       2.974   Cond. No.                         8.43\n",
      "==============================================================================\n",
      "\n",
      "Warnings:\n",
      "[1] Standard Errors assume that the covariance matrix of the errors is correctly specified.\n"
     ]
    }
   ],
   "source": [
    "print(reg.summary())"
   ]
  },
  {
   "cell_type": "code",
   "execution_count": 7,
   "metadata": {},
   "outputs": [
    {
     "name": "stdout",
     "output_type": "stream",
     "text": [
      "                          PanelOLS Estimation Summary                           \n",
      "================================================================================\n",
      "Dep. Variable:                  sales   R-squared:                        0.1702\n",
      "Estimator:                   PanelOLS   R-squared (Between):              0.1063\n",
      "No. Observations:                4000   R-squared (Within):               0.3939\n",
      "Date:                Mon, Nov 25 2019   R-squared (Overall):              0.1131\n",
      "Time:                        13:21:09   Log-likelihood                -3.742e+04\n",
      "Cov. Estimator:            Unadjusted                                           \n",
      "                                        F-statistic:                      409.94\n",
      "Entities:                        2000   P-value                           0.0000\n",
      "Avg Obs:                       2.0000   Distribution:                  F(1,1998)\n",
      "Min Obs:                       2.0000                                           \n",
      "Max Obs:                       2.0000   F-statistic (robust):             409.94\n",
      "                                        P-value                           0.0000\n",
      "Time periods:                       2   Distribution:                  F(1,1998)\n",
      "Avg Obs:                       2000.0                                           \n",
      "Min Obs:                       2000.0                                           \n",
      "Max Obs:                       2000.0                                           \n",
      "                                                                                \n",
      "                             Parameter Estimates                              \n",
      "==============================================================================\n",
      "            Parameter  Std. Err.     T-stat    P-value    Lower CI    Upper CI\n",
      "------------------------------------------------------------------------------\n",
      "training       5072.7     250.54     20.247     0.0000      4581.3      5564.0\n",
      "==============================================================================\n",
      "\n",
      "F-test for Poolability: 1.2534\n",
      "P-value: 0.0000\n",
      "Distribution: F(2000,1998)\n",
      "\n",
      "Included effects: Entity, Time\n"
     ]
    }
   ],
   "source": [
    "df = df.set_index(['persnr','year'])\n",
    "regFE = PanelOLS.from_formula('sales ~ training + EntityEffects + TimeEffects', data=df).fit()\n",
    "print(regFE)"
   ]
  },
  {
   "cell_type": "code",
   "execution_count": null,
   "metadata": {},
   "outputs": [],
   "source": []
  }
 ],
 "metadata": {
  "kernelspec": {
   "display_name": "Python 3",
   "language": "python",
   "name": "python3"
  },
  "language_info": {
   "codemirror_mode": {
    "name": "ipython",
    "version": 3
   },
   "file_extension": ".py",
   "mimetype": "text/x-python",
   "name": "python",
   "nbconvert_exporter": "python",
   "pygments_lexer": "ipython3",
   "version": "3.7.3"
  }
 },
 "nbformat": 4,
 "nbformat_minor": 2
}
